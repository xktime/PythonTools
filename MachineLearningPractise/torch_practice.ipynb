{
 "cells": [
  {
   "cell_type": "code",
   "execution_count": 2,
   "metadata": {},
   "outputs": [
    {
     "name": "stdout",
     "output_type": "stream",
     "text": [
      "tensor([[0., 0., 0.],\n",
      "        [0., 0., 0.]])\n",
      "tensor([[0.8124, 0.5209, 0.6872],\n",
      "        [0.4427, 0.0313, 0.1979]])\n",
      "tensor([1., 2., 3.])\n"
     ]
    }
   ],
   "source": [
    "import torch\n",
    "\n",
    "# 创建一个 2x3 的零张量\n",
    "x = torch.zeros(2, 3)\n",
    "print(x)\n",
    "\n",
    "# 创建一个 2x3 的随机张量\n",
    "y = torch.rand(2, 3)\n",
    "print(y)\n",
    "\n",
    "# 创建一个从数据中的张量\n",
    "z = torch.tensor([1.0, 2.0, 3.0])\n",
    "print(z)"
   ]
  },
  {
   "cell_type": "code",
   "execution_count": 5,
   "metadata": {},
   "outputs": [
    {
     "name": "stdout",
     "output_type": "stream",
     "text": [
      "tensor([[2., 3.],\n",
      "        [4., 5.]], requires_grad=True)\n",
      "tensor(40.5000, grad_fn=<MeanBackward0>)\n",
      "tensor([[3.0000, 4.5000],\n",
      "        [6.0000, 7.5000]])\n",
      "tensor([[3.5443, 5.3165],\n",
      "        [7.0887, 8.8608]])\n"
     ]
    }
   ],
   "source": [
    "# 创建大小为(5, 3)的张量，填充随机数\n",
    "x = torch.rand(5, 3)\n",
    "\n",
    "# 创建大小为(5, 3)的张量，填充1\n",
    "y = torch.ones(5, 3)\n",
    "\n",
    "# 加法运算\n",
    "z1 = x + y\n",
    "\n",
    "# 乘法运算\n",
    "z2 = x * y\n",
    "\n",
    "# 创建张量并设置requires_grad=True以跟踪计算\n",
    "v = torch.tensor([[2.0, 3.0], [4.0, 5.0]], requires_grad=True)\n",
    "\n",
    "# 更复杂的张量计算\n",
    "z3 = v * v * 3\n",
    "out = z3.mean()\n",
    "\n",
    "# 反向传播\n",
    "out.backward()\n",
    "\n",
    "# 打印梯度 d(out)/dx\n",
    "print(v.grad)\n",
    "\n",
    "# 现在我们将进行更多计算\n",
    "v2 = v * 2\n",
    "v2_norm = v2.norm()\n",
    "v2_norm.backward()\n",
    "\n",
    "# 打印梯度\n",
    "print(v.grad)"
   ]
  }
 ],
 "metadata": {
  "kernelspec": {
   "display_name": "base",
   "language": "python",
   "name": "python3"
  },
  "language_info": {
   "codemirror_mode": {
    "name": "ipython",
    "version": 3
   },
   "file_extension": ".py",
   "mimetype": "text/x-python",
   "name": "python",
   "nbconvert_exporter": "python",
   "pygments_lexer": "ipython3",
   "version": "3.11.5"
  }
 },
 "nbformat": 4,
 "nbformat_minor": 2
}
