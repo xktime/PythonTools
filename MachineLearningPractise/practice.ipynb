{
 "cells": [
  {
   "cell_type": "code",
   "execution_count": null,
   "metadata": {},
   "outputs": [],
   "source": [
    "import numpy as np\n",
    "from scipy import stats\n",
    "\n",
    "speed = [99,86,87,88,111,86,103,87,94,78,77,85,86]\n",
    "\n",
    "# 平均值\n",
    "x = np.mean(speed)\n",
    "\n",
    "print('平均值 :', x)\n",
    "\n",
    "# 中值\n",
    "x = np.median(speed)\n",
    "\n",
    "print('中值 :', x)\n",
    "\n",
    "# 众数\n",
    "x = stats.mode(speed,keepdims=False)\n",
    "print('众数 :', x)\n",
    "\n",
    "# 标准差\n",
    "x = np.std(speed)\n",
    "print('标准差 :', x)\n",
    "\n",
    "# 方差\n",
    "x = np.var(speed)\n",
    "print('方差 :', x)\n",
    "\n",
    "# 百分位数\n",
    "x = np.percentile(speed, 50)\n",
    "print('百分位数 :', x)"
   ]
  },
  {
   "cell_type": "code",
   "execution_count": null,
   "metadata": {},
   "outputs": [],
   "source": [
    "import matplotlib.pyplot as plt\n",
    "\n",
    "# 创建一个包含 250 个介于 0 到 5 之间的随机浮点数的数组\n",
    "x = np.random.uniform(0.0, 5.0, 250)\n",
    "\n",
    "# 绘制直方图\n",
    "plt.hist(x, 5)\n",
    "plt.show()"
   ]
  },
  {
   "cell_type": "code",
   "execution_count": null,
   "metadata": {},
   "outputs": [],
   "source": [
    "# 平均值为 5.0，标准差为 1.0\n",
    "x = np.random.normal(5.0, 1.0, 100000)\n",
    "\n",
    "plt.hist(x, 100)\n",
    "plt.show()"
   ]
  },
  {
   "cell_type": "code",
   "execution_count": null,
   "metadata": {},
   "outputs": [],
   "source": [
    "# 线性回归\n",
    "x = [5,7,8,7,2,17,2,9,4,11,12,9,6]\n",
    "y = [99,86,87,88,111,86,103,87,94,78,77,85,86]\n",
    "\n",
    "\n",
    "# 该方法返回线性回归的一些重要键值\n",
    "# r 平方值的范围是 0 到 1，其中 0 表示不相关，而 1 表示 100％ 相关\n",
    "slope, intercept, r, p, std_err = stats.linregress(x, y)\n",
    "\n",
    "# 表示相应的 x 值将在 y 轴上放置的位置\n",
    "def myfunc(x):\n",
    "  return slope * x + intercept\n",
    "\n",
    "mymodel = list(map(myfunc, x))\n",
    "\n",
    "plt.scatter(x, y)\n",
    "plt.plot(x, mymodel)\n",
    "plt.show()"
   ]
  },
  {
   "cell_type": "code",
   "execution_count": null,
   "metadata": {},
   "outputs": [],
   "source": [
    "from sklearn.metrics import r2_score\n",
    "# 多项式回归\n",
    "\n",
    "# x 轴表示一天中的小时，y 轴表示速度\n",
    "x = [1,2,3,5,6,7,8,9,10,12,13,14,15,16,18,19,21,22]\n",
    "y = [100,90,80,60,60,55,60,65,70,70,75,76,78,79,90,99,99,100]\n",
    "\n",
    "mymodel = np.poly1d(np.polyfit(x, y, 3))\n",
    "\n",
    "# 指定行的显示方式，我们从位置 1 开始，到位置 22 结束\n",
    "myline = np.linspace(1, 22, 100)\n",
    "\n",
    "plt.scatter(x, y)\n",
    "plt.plot(myline, mymodel(myline))\n",
    "plt.show()\n",
    "\n",
    "# r 平方值的范围是 0 到 1，其中 0 表示不相关，而 1 表示 100％ 相关\n",
    "print(r2_score(y, mymodel(x)))\n",
    "\n",
    "# 预测下午 17 点过车的速度\n",
    "speed = mymodel(17)\n",
    "print(speed)"
   ]
  },
  {
   "cell_type": "code",
   "execution_count": 50,
   "metadata": {},
   "outputs": [
    {
     "name": "stdout",
     "output_type": "stream",
     "text": [
      "[107.2087328]\n",
      "[0.00755095 0.00780526]\n"
     ]
    },
    {
     "name": "stderr",
     "output_type": "stream",
     "text": [
      "f:\\soft\\anaconda\\lib\\site-packages\\sklearn\\base.py:420: UserWarning: X does not have valid feature names, but LinearRegression was fitted with feature names\n",
      "  warnings.warn(\n"
     ]
    }
   ],
   "source": [
    "import pandas as pd\n",
    "from sklearn import linear_model\n",
    "from sklearn.preprocessing import StandardScaler\n",
    "scale = StandardScaler()\n",
    "\n",
    "# 多元回归就像线性回归一样，但是具有多个独立值，这意味着我们试图基于两个或多个变量来预测一个值\n",
    "df = pd.read_csv(\"cars.csv\")\n",
    "\n",
    "X = df[['Weight', 'Volume']]\n",
    "y = df['CO2']\n",
    "\n",
    "# 数据缩放z = (x - u) / s\n",
    "# z 是新值，x 是原始值，u 是平均值，s 是标准差。\n",
    "scaledX = scale.fit_transform(X)\n",
    "\n",
    "regr = linear_model.LinearRegression()\n",
    "regr.fit(X, y)\n",
    "\n",
    "# 预测重量为 2300kg、排量为 1300ccm 的汽车的二氧化碳排放量：\n",
    "predictedCO2 = regr.predict([[2300, 1300]])\n",
    "\n",
    "print(predictedCO2)\n",
    "\n",
    "# 系数是描述与未知变量的关系的因子\n",
    "# result告诉我们，如果重量增加 1g，则 CO2 排放量将增加 0.00755095g。\n",
    "# 如果发动机尺寸（容积）增加 1 ccm，则 CO2 排放量将增加 0.00780526g。\n",
    "print(regr.coef_)"
   ]
  },
  {
   "cell_type": "code",
   "execution_count": null,
   "metadata": {},
   "outputs": [],
   "source": []
  }
 ],
 "metadata": {
  "kernelspec": {
   "display_name": "base",
   "language": "python",
   "name": "python3"
  },
  "language_info": {
   "codemirror_mode": {
    "name": "ipython",
    "version": 3
   },
   "file_extension": ".py",
   "mimetype": "text/x-python",
   "name": "python",
   "nbconvert_exporter": "python",
   "pygments_lexer": "ipython3",
   "version": "3.10.9"
  },
  "orig_nbformat": 4
 },
 "nbformat": 4,
 "nbformat_minor": 2
}
